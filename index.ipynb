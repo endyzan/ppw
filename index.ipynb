{
 "cells": [
  {
   "cell_type": "markdown",
   "id": "8c194a5d",
   "metadata": {},
   "source": [
    "# Biodata\n",
    "\n",
    "- **Nama** : Ahmad Andi Zainuri  \n",
    "- **NIM** : 220411100176  \n",
    "- **Email** : 220411100176@student.trunojoyo.ac.id\n"
   ]
  }
 ],
 "metadata": {
  "language_info": {
   "name": "python"
  }
 },
 "nbformat": 4,
 "nbformat_minor": 5
}
